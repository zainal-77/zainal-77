{
  "nbformat": 4,
  "nbformat_minor": 0,
  "metadata": {
    "colab": {
      "provenance": [],
      "authorship_tag": "ABX9TyPxlAoldMQFQ0DrC++3kiUx",
      "include_colab_link": true
    },
    "kernelspec": {
      "name": "python3",
      "display_name": "Python 3"
    },
    "language_info": {
      "name": "python"
    }
  },
  "cells": [
    {
      "cell_type": "markdown",
      "metadata": {
        "id": "view-in-github",
        "colab_type": "text"
      },
      "source": [
        "<a href=\"https://colab.research.google.com/github/zainal-77/zainal-77/blob/main/Crypto.ipynb\" target=\"_parent\"><img src=\"https://colab.research.google.com/assets/colab-badge.svg\" alt=\"Open In Colab\"/></a>"
      ]
    },
    {
      "cell_type": "code",
      "execution_count": 7,
      "metadata": {
        "colab": {
          "base_uri": "https://localhost:8080/"
        },
        "id": "kE4p28JnK70K",
        "outputId": "7991ba17-1ec5-4305-8176-206ead39bcb4"
      },
      "outputs": [
        {
          "output_type": "stream",
          "name": "stdout",
          "text": [
            "igjfihkehhkeiikh\n"
          ]
        }
      ],
      "source": [
        "import string\n",
        "\n",
        "LOWERCASE_OFFSET = ord(\"a\")\n",
        "ALPHABET = string.ascii_lowercase[:16]\n",
        "\n",
        "def b16_encode(plain):\n",
        "\tenc = \"\"\n",
        "\tfor c in plain:\n",
        "\t\tbinary = \"{0:08b}\".format(ord(c))\n",
        "\t\tenc += ALPHABET[int(binary[:4], 2)]\n",
        "\t\tenc += ALPHABET[int(binary[4:], 2)]\n",
        "\treturn enc\n",
        "\n",
        "def shift(c, k):\n",
        "\tt1 = ord(c) - LOWERCASE_OFFSET\n",
        "\tt2 = ord(k) - LOWERCASE_OFFSET\n",
        "\treturn ALPHABET[(t1 + t2) % len(ALPHABET)]\n",
        "\n",
        "flag = \"redacted\"\n",
        "key = \"redacted\"\n",
        "enc = \"dcebcmebecamcmanaedbacdaanafagapdaaoabaaafdbapdpaaapadanandcafaadbdaapdpandca\"\n",
        "\n",
        "b16 = b16_encode(flag)\n",
        "enc = \"\"\n",
        "for i, c in enumerate(b16):\n",
        "\tenc += shift(c, key[i % len(key)])\n",
        "print(enc)\n"
      ]
    }
  ]
}